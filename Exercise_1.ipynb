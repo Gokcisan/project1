{
 "cells": [
  {
   "cell_type": "code",
   "execution_count": 9,
   "metadata": {},
   "outputs": [
    {
     "name": "stdout",
     "output_type": "stream",
     "text": [
      "Gökce Sanlialp\n"
     ]
    }
   ],
   "source": [
    "my_name = \"Gökce Sanlialp\"\n",
    "print(my_name)\n"
   ]
  },
  {
   "cell_type": "markdown",
   "metadata": {},
   "source": [
    "\n",
    "In your file create a variable called my_name with your name as the value. Put your name inside string quotes, e.g., \"my name\". Then add a line of code to print the variable name.\n",
    "\n",
    "Save your file and run the cell. You should see your name printed. If not, investigate and fix it.\n"
   ]
  },
  {
   "cell_type": "code",
   "execution_count": 16,
   "metadata": {},
   "outputs": [
    {
     "name": "stdout",
     "output_type": "stream",
     "text": [
      "40\n"
     ]
    }
   ],
   "source": [
    "my_age = 40\n",
    "print(my_age)"
   ]
  },
  {
   "cell_type": "markdown",
   "metadata": {},
   "source": [
    "Exercise 2\n",
    "Create a variable called age with a number that is your age. Do not use string quotes for numbers.\n",
    "\n",
    "Add a line to print that variable. Save the file and run the cell. You should see your age."
   ]
  },
  {
   "cell_type": "code",
   "execution_count": 11,
   "metadata": {},
   "outputs": [
    {
     "name": "stdout",
     "output_type": "stream",
     "text": [
      "40\n",
      "8\n"
     ]
    }
   ],
   "source": [
    "Julia_age = 32\n",
    "my_age = 40\n",
    "age_diff = my_age - Julia_age\n",
    "print(my_age)\n",
    "print(age_diff)"
   ]
  },
  {
   "cell_type": "markdown",
   "metadata": {},
   "source": [
    "Exercise 3\n",
    "Create a variable called julia_age with the value 32. Create another variable called age_diff and set it to an expression that calculates your age minus Julia's age. Print your age and the value of age_diff. If you are younger than Julia, age_diff should be a negative number."
   ]
  },
  {
   "cell_type": "code",
   "execution_count": 10,
   "metadata": {},
   "outputs": [
    {
     "name": "stdout",
     "output_type": "stream",
     "text": [
      "You are older than 21\n"
     ]
    }
   ],
   "source": [
    "age = int(input(\"Enter your age: \"))\n",
    "if age > 21:\n",
    "    print(\"You are older than 21\")\n",
    "elif age == 21:\n",
    "    print(\"You are in fact 21\")\n",
    "else:\n",
    "    print(\"You are younger than 21\")\n"
   ]
  },
  {
   "cell_type": "markdown",
   "metadata": {},
   "source": [
    "Exercise 4\n",
    "Write a conditional that compares the variable holding your age with the number 21. It should print either \"You are older than 21\" or \"You are not older than 21\", appropriately, depending on your age. Save your file and run the cell. Make sure you see the correct message. Try changing your age in the file to make sure the other message prints when it should."
   ]
  },
  {
   "cell_type": "code",
   "execution_count": 14,
   "metadata": {},
   "outputs": [
    {
     "name": "stdout",
     "output_type": "stream",
     "text": [
      "I am older than Julia\n"
     ]
    }
   ],
   "source": [
    "if Julia_age > my_age:\n",
    "    print(\"Julia is older than me\")\n",
    "elif Julia_age == my_age:\n",
    "    print(\"We are the same age\")\n",
    "else:\n",
    "    print(\"I am older than Julia\")"
   ]
  },
  {
   "cell_type": "markdown",
   "metadata": {},
   "source": [
    "Exercise 5\n",
    "Write a conditional that compares your age with Julia's age. This conditional will need to test if you are older, younger, or the same age, and print, appropriately, either \"Julia is older than you\", \"Julia is younger than you\", or \"You are the same age as Julia\"."
   ]
  },
  {
   "cell_type": "code",
   "execution_count": 17,
   "metadata": {},
   "outputs": [
    {
     "name": "stdout",
     "output_type": "stream",
     "text": [
      "Variable    Type    Data/Info\n",
      "-----------------------------\n",
      "Julia_age   int     32\n",
      "age         int     40\n",
      "age_diff    int     8\n",
      "julia_age   int     32\n",
      "my_age      int     40\n"
     ]
    }
   ],
   "source": [
    "%whos"
   ]
  },
  {
   "cell_type": "markdown",
   "metadata": {},
   "source": [
    "Exercise 6\n",
    "Create a list with all the names of your class (including mentors). Sort the list alphabetically, then print the first element of the list.\n",
    "On the next line, print the last element of the list.\n",
    "On the next line, print all the elements of the list (use a \"for\" loop)."
   ]
  },
  {
   "cell_type": "code",
   "execution_count": 25,
   "metadata": {},
   "outputs": [
    {
     "name": "stdout",
     "output_type": "stream",
     "text": [
      "['Emily', 'Gökçe', 'Jost', 'Julian', 'Katha', 'Lucas', 'Max', 'Muayad', 'Ola', 'Tiba']\n"
     ]
    }
   ],
   "source": [
    "black_owls = [\"Gökçe\", \"Ola\", \"Tiba\", \"Julian\", \"Max\", \"Katha\", \"Emily\", \"Muayad\", \"Jost\", \"Lucas\"]\n",
    "sorted_names = sorted(black_owls)\n",
    "print(sorted_names)"
   ]
  },
  {
   "cell_type": "code",
   "execution_count": 26,
   "metadata": {},
   "outputs": [
    {
     "data": {
      "text/plain": [
       "['Emily',\n",
       " 'Gökçe',\n",
       " 'Jost',\n",
       " 'Julian',\n",
       " 'Katha',\n",
       " 'Lucas',\n",
       " 'Max',\n",
       " 'Muayad',\n",
       " 'Ola',\n",
       " 'Tiba']"
      ]
     },
     "execution_count": 26,
     "metadata": {},
     "output_type": "execute_result"
    }
   ],
   "source": [
    "sorted(black_owls)"
   ]
  },
  {
   "cell_type": "code",
   "execution_count": 27,
   "metadata": {},
   "outputs": [
    {
     "name": "stdout",
     "output_type": "stream",
     "text": [
      "First element Gökçe\n",
      "Last element: Lucas\n"
     ]
    }
   ],
   "source": [
    "print(\"First element\", black_owls[0])\n",
    "print(\"Last element:\", black_owls[-1])"
   ]
  },
  {
   "cell_type": "code",
   "execution_count": 29,
   "metadata": {},
   "outputs": [
    {
     "name": "stdout",
     "output_type": "stream",
     "text": [
      "First element: Emily\n",
      "Last element: Tiba\n"
     ]
    }
   ],
   "source": [
    "print(\"First element:\", sorted(black_owls)[0])\n",
    "print(\"Last element:\", sorted(black_owls)[-1])"
   ]
  },
  {
   "cell_type": "code",
   "execution_count": 30,
   "metadata": {},
   "outputs": [
    {
     "name": "stdout",
     "output_type": "stream",
     "text": [
      "Gökçe\n",
      "Ola\n",
      "Tiba\n",
      "Julian\n",
      "Max\n",
      "Katha\n",
      "Emily\n",
      "Muayad\n",
      "Jost\n",
      "Lucas\n"
     ]
    }
   ],
   "source": [
    "for name in black_owls:\n",
    "    print(name)"
   ]
  },
  {
   "cell_type": "code",
   "execution_count": 31,
   "metadata": {},
   "outputs": [
    {
     "name": "stdout",
     "output_type": "stream",
     "text": [
      "Emily\n",
      "Gökçe\n",
      "Jost\n",
      "Julian\n",
      "Katha\n",
      "Lucas\n",
      "Max\n",
      "Muayad\n",
      "Ola\n",
      "Tiba\n"
     ]
    }
   ],
   "source": [
    "for name in sorted(black_owls):\n",
    "    print(name)"
   ]
  },
  {
   "cell_type": "markdown",
   "metadata": {},
   "source": [
    "Exercise 7\n",
    "Create a list with all the ages of the students in your class. Iterate through the list using a for loop, and then print every age. Add a conditional inside the loop to only print even ages (Hint: have a look for Python's modulus operator).\n",
    "Try to do the same thing using a while loop."
   ]
  },
  {
   "cell_type": "code",
   "execution_count": 34,
   "metadata": {},
   "outputs": [
    {
     "name": "stdout",
     "output_type": "stream",
     "text": [
      "40\n",
      "30\n",
      "41\n",
      "45\n",
      "35\n",
      "43\n",
      "24\n",
      "33\n",
      "32\n",
      "31\n"
     ]
    }
   ],
   "source": [
    "black_owls = [\"Gökçe\", \"Ola\", \"Tiba\", \"Julian\", \"Max\", \"Katha\", \"Emily\", \"Muayad\", \"Jost\", \"Lucas\"]\n",
    "ages = [40, 30, 41, 45, 35, 43, 24, 33, 32, 31]\n",
    "for age in ages:\n",
    "    print(age)\n"
   ]
  },
  {
   "cell_type": "code",
   "execution_count": 36,
   "metadata": {},
   "outputs": [
    {
     "name": "stdout",
     "output_type": "stream",
     "text": [
      "40\n",
      "30\n",
      "24\n",
      "32\n"
     ]
    }
   ],
   "source": [
    "for age in ages:\n",
    "    if age %2 == 0:\n",
    "     print(age)"
   ]
  },
  {
   "cell_type": "code",
   "execution_count": 39,
   "metadata": {},
   "outputs": [
    {
     "name": "stdout",
     "output_type": "stream",
     "text": [
      "40\n",
      "30\n",
      "24\n",
      "32\n"
     ]
    }
   ],
   "source": [
    "i = 0\n",
    "while i < len(ages):\n",
    "    if ages[i] % 2 == 0:\n",
    "        print(ages[i])\n",
    "    i += 1"
   ]
  },
  {
   "cell_type": "code",
   "execution_count": 47,
   "metadata": {},
   "outputs": [
    {
     "name": "stdout",
     "output_type": "stream",
     "text": [
      "2\n"
     ]
    }
   ],
   "source": [
    "list = [3, 5, 8, 7, 9, 11, 2]\n",
    "sorted_list = sorted(list)\n",
    "print(sorted_list[0])"
   ]
  },
  {
   "cell_type": "code",
   "execution_count": 49,
   "metadata": {},
   "outputs": [
    {
     "name": "stdout",
     "output_type": "stream",
     "text": [
      "2\n"
     ]
    }
   ],
   "source": [
    "numbers = [3, 5, 8, 7, 9, 11, 2]\n",
    "print(min(numbers))"
   ]
  },
  {
   "cell_type": "markdown",
   "metadata": {},
   "source": [
    "Exercise 8\n",
    "Write a list containing numbers and print the lowest number."
   ]
  },
  {
   "cell_type": "code",
   "execution_count": 53,
   "metadata": {},
   "outputs": [
    {
     "name": "stdout",
     "output_type": "stream",
     "text": [
      "11\n"
     ]
    }
   ],
   "source": [
    "print(sorted_list[-1])"
   ]
  },
  {
   "cell_type": "code",
   "execution_count": 51,
   "metadata": {},
   "outputs": [
    {
     "name": "stdout",
     "output_type": "stream",
     "text": [
      "11\n"
     ]
    }
   ],
   "source": [
    "print(max(numbers))"
   ]
  },
  {
   "cell_type": "markdown",
   "metadata": {},
   "source": [
    "Exercise 9\n",
    "Write a list containing numbers and print the highest number."
   ]
  },
  {
   "cell_type": "markdown",
   "metadata": {},
   "source": [
    "Exercise 10\n",
    "Given below is a list of 10 customers with year of birth, however, the list can be as large as several thousands of customers.\n",
    "\n",
    "[1999, 1995, 2005, 2010, 2007, 2006, 1994, 1996, 1979, 2008]\n",
    "Use a loop to iterate over the list and print the age of each customer."
   ]
  },
  {
   "cell_type": "code",
   "execution_count": 61,
   "metadata": {},
   "outputs": [
    {
     "name": "stdout",
     "output_type": "stream",
     "text": [
      "Customer born in 1999 is 26 years old\n",
      "Customer born in 1995 is 30 years old\n",
      "Customer born in 2005 is 20 years old\n",
      "Customer born in 2010 is 15 years old\n",
      "Customer born in 2007 is 18 years old\n",
      "Customer born in 2006 is 19 years old\n",
      "Customer born in 1994 is 31 years old\n",
      "Customer born in 1996 is 29 years old\n",
      "Customer born in 1979 is 46 years old\n",
      "Customer born in 2008 is 17 years old\n"
     ]
    }
   ],
   "source": [
    "customer_birth_year = [1999, 1995, 2005, 2010, 2007, 2006, 1994, 1996, 1979, 2008]\n",
    "current_year = 2025\n",
    "for birth_year in customer_birth_year:\n",
    "    age = current_year - birth_year\n",
    "    print(f\"Customer born in {birth_year} is {age} years old\")"
   ]
  },
  {
   "cell_type": "markdown",
   "metadata": {},
   "source": [
    "Exercise 11\n",
    "Given below is a list of 10 customers with name and year of birth, however, the list can be as large as several thousands of customers.\n",
    "\n",
    "customer_list = [\n",
    "                    {\"name\": \"Bob\", \"age\": 1999},\n",
    "                    {\"name\": \"Jack\", \"age\": 1995},\n",
    "                    {\"name\": \"Lisa\", \"age\": 2005},\n",
    "                    {\"name\": \"Maria\", \"age\": 2010},\n",
    "                    {\"name\": \"Ben\", \"age\": 2007},\n",
    "                    {\"name\": \"Emma\", \"age\": 2006},\n",
    "                    {\"name\": \"Oscar\", \"age\": 1994},\n",
    "                    {\"name\": \"Amy\", \"age\": 1996},\n",
    "                    {\"name\": \"Paul\", \"age\": 1979},\n",
    "                    {\"name\": \"Etta\", \"age\": 2008}\n",
    "                ]\n",
    "Use a loop to iterate over the list and print the name and age of each customer.\n",
    "Afterwards, for each customer try to print the sentence \"customer_name is customer_age years old\".\n",
    "customer_name and customer_age should correspond to each customer's name and age."
   ]
  },
  {
   "cell_type": "code",
   "execution_count": 63,
   "metadata": {},
   "outputs": [
    {
     "name": "stdout",
     "output_type": "stream",
     "text": [
      "Bob is 26 years old\n",
      "Jack is 30 years old\n",
      "Lisa is 20 years old\n",
      "Maria is 15 years old\n",
      "Ben is 18 years old\n",
      "Emma is 19 years old\n",
      "Oscar is 31 years old\n",
      "Amy is 29 years old\n",
      "Paul is 46 years old\n",
      "Etta is 17 years old\n"
     ]
    }
   ],
   "source": [
    "customer_list = [{\"name\": \"Bob\", \"age\": 1999}, {\"name\": \"Jack\", \"age\": 1995},\n",
    "    {\"name\": \"Lisa\", \"age\": 2005},\n",
    "                    {\"name\": \"Maria\", \"age\": 2010},\n",
    "                    {\"name\": \"Ben\", \"age\": 2007},\n",
    "                    {\"name\": \"Emma\", \"age\": 2006},\n",
    "                    {\"name\": \"Oscar\", \"age\": 1994},\n",
    "                    {\"name\": \"Amy\", \"age\": 1996},\n",
    "                    {\"name\": \"Paul\", \"age\": 1979},\n",
    "                    {\"name\": \"Etta\", \"age\": 2008}\n",
    "                ]\n",
    "current_year = 2025\n",
    "for customer in customer_list:\n",
    "    age = current_year - customer[\"age\"]\n",
    "    print(f\"{customer['name']} is {age} years old\")"
   ]
  },
  {
   "cell_type": "code",
   "execution_count": null,
   "metadata": {},
   "outputs": [],
   "source": [
    "Exercise 12\n",
    "Given a list of ages, remove the youngest and the oldest person.\n",
    "\n",
    "ages = [20, 24, 14, 9, 12, 13, 25, 23, 40, 11]\n",
    "For this exercise try not to use the max() and min() methods."
   ]
  },
  {
   "cell_type": "code",
   "execution_count": 66,
   "metadata": {},
   "outputs": [
    {
     "name": "stdout",
     "output_type": "stream",
     "text": [
      "[11, 12, 13, 14, 20, 23, 24, 25]\n"
     ]
    }
   ],
   "source": [
    "ages = [20, 24, 14, 9, 12, 13, 25, 23, 40, 11]\n",
    "sorted_ages = sorted(ages)\n",
    "min_max_removed_ages = sorted_ages[1:-1]\n",
    "print(min_max_removed_ages)"
   ]
  },
  {
   "cell_type": "code",
   "execution_count": null,
   "metadata": {},
   "outputs": [],
   "source": [
    "Exercise 13\n",
    "You have two lists with ages of customers from different cities.\n",
    "\n",
    "berlin = [15, 13, 16, 18, 19, 10, 12 ]\n",
    "munich = [7, 13, 15, 20, 19, 18, 10, 16]\n",
    "The task is to create a new list with the common ages."
   ]
  },
  {
   "cell_type": "code",
   "execution_count": 68,
   "metadata": {},
   "outputs": [
    {
     "name": "stdout",
     "output_type": "stream",
     "text": [
      "15\n",
      "13\n",
      "16\n",
      "18\n",
      "19\n",
      "10\n"
     ]
    }
   ],
   "source": [
    "berlin = [15, 13, 16, 18, 19, 10, 12 ]\n",
    "munich = [7, 13, 15, 20, 19, 18, 10, 16]\n",
    "for age in berlin:\n",
    "    if age in munich:\n",
    "        print(age)"
   ]
  },
  {
   "cell_type": "code",
   "execution_count": 74,
   "metadata": {},
   "outputs": [
    {
     "name": "stdout",
     "output_type": "stream",
     "text": [
      "{10, 13, 15, 16, 18, 19}\n"
     ]
    }
   ],
   "source": [
    "berlin = [15, 13, 16, 18, 19, 10, 12 ]\n",
    "munich = [7, 13, 15, 20, 19, 18, 10, 16]\n",
    "berlin_set = set(berlin)\n",
    "munich_set = set(munich)\n",
    "common_ages = (berlin_set & munich_set)\n",
    "print(common_ages)"
   ]
  },
  {
   "cell_type": "markdown",
   "metadata": {},
   "source": [
    "Exercise 14\n",
    "You have a list with ages.\n",
    "\n",
    "[15, 13, 16, 18, 19, 15, 10]\n",
    "Remove the duplicates."
   ]
  },
  {
   "cell_type": "code",
   "execution_count": 75,
   "metadata": {},
   "outputs": [
    {
     "name": "stdout",
     "output_type": "stream",
     "text": [
      "{10, 13, 15, 16, 18, 19}\n"
     ]
    }
   ],
   "source": [
    "ages = [15, 13, 16, 18, 19, 15, 10]\n",
    "unique_ages = set(ages)\n",
    "print(unique_ages)"
   ]
  },
  {
   "cell_type": "code",
   "execution_count": 76,
   "metadata": {},
   "outputs": [
    {
     "name": "stdout",
     "output_type": "stream",
     "text": [
      "[10, 13, 15, 16, 18, 19]\n"
     ]
    }
   ],
   "source": [
    "ages = [15, 13, 16, 18, 19, 15, 10]\n",
    "unique_ages_sorted = sorted(set(ages))\n",
    "print(unique_ages_sorted)"
   ]
  },
  {
   "cell_type": "markdown",
   "metadata": {},
   "source": [
    "Functions\n",
    "Exercise 15\n",
    "Write a function that works like below:\n",
    "\n",
    "Function name: welcome\n",
    "\n",
    "welcome('Evelyn') would print- 'Welcome Evelyn, have a nice day!'\n",
    "\n",
    "welcome('Jost'), would print - 'Welcome Jost, have a nice day!'"
   ]
  },
  {
   "cell_type": "code",
   "execution_count": 88,
   "metadata": {},
   "outputs": [],
   "source": [
    "def welcome(name):\n",
    "    print(f\"Welcome {name}\")\n",
    "    welcome(\"name\")"
   ]
  },
  {
   "cell_type": "code",
   "execution_count": 89,
   "metadata": {},
   "outputs": [
    {
     "ename": "NameError",
     "evalue": "name 'hi' is not defined",
     "output_type": "error",
     "traceback": [
      "\u001b[0;31m---------------------------------------------------------------------------\u001b[0m",
      "\u001b[0;31mNameError\u001b[0m                                 Traceback (most recent call last)",
      "Input \u001b[0;32mIn [89]\u001b[0m, in \u001b[0;36m<cell line: 1>\u001b[0;34m()\u001b[0m\n\u001b[0;32m----> 1\u001b[0m \u001b[43mhi\u001b[49m\n",
      "\u001b[0;31mNameError\u001b[0m: name 'hi' is not defined"
     ]
    }
   ],
   "source": [
    "hi"
   ]
  },
  {
   "cell_type": "markdown",
   "metadata": {},
   "source": [
    "Exercise 16\n",
    "Write a function that takes a string as input and calculates the length.\n",
    "\n",
    "Function name: get_length\n",
    "\n",
    "get_length('Hello') would print / return 5.\n",
    "\n",
    "get_length('Hi') would print / return 2.\n",
    "\n"
   ]
  },
  {
   "cell_type": "code",
   "execution_count": 90,
   "metadata": {},
   "outputs": [
    {
     "name": "stdout",
     "output_type": "stream",
     "text": [
      "enew change\n"
     ]
    }
   ],
   "source": [
    "print(\"enew change\")"
   ]
  },
  {
   "cell_type": "code",
   "execution_count": null,
   "metadata": {},
   "outputs": [],
   "source": []
  }
 ],
 "metadata": {
  "kernelspec": {
   "display_name": "base",
   "language": "python",
   "name": "python3"
  },
  "language_info": {
   "codemirror_mode": {
    "name": "ipython",
    "version": 3
   },
   "file_extension": ".py",
   "mimetype": "text/x-python",
   "name": "python",
   "nbconvert_exporter": "python",
   "pygments_lexer": "ipython3",
   "version": "3.9.12"
  }
 },
 "nbformat": 4,
 "nbformat_minor": 2
}
