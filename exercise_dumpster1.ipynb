{
 "cells": [
  {
   "cell_type": "code",
   "execution_count": 7,
   "metadata": {},
   "outputs": [
    {
     "name": "stdout",
     "output_type": "stream",
     "text": [
      "pink\n",
      "my favourite colour is pink\n"
     ]
    }
   ],
   "source": [
    "my_favourite_colour = \"pink\"\n",
    "print (my_favourite_colour)\n",
    "print (\"my favourite colour is\", my_favourite_colour)\n",
    "\n"
   ]
  },
  {
   "cell_type": "markdown",
   "metadata": {},
   "source": [
    "1. Favori Rengini Yazdır\n",
    "📌 Görev:\n",
    "\n",
    "Bir değişken oluştur ve favori rengini string olarak içine yaz.\n",
    "Sonra print() ile ekrana yazdır.\n"
   ]
  },
  {
   "cell_type": "code",
   "execution_count": 11,
   "metadata": {},
   "outputs": [
    {
     "name": "stdout",
     "output_type": "stream",
     "text": [
      "17\n"
     ]
    }
   ],
   "source": [
    "num1 = 8\n",
    "num2 = 9\n",
    "moin = num1 + num2\n",
    "print (moin)"
   ]
  },
  {
   "cell_type": "code",
   "execution_count": 8,
   "metadata": {},
   "outputs": [
    {
     "name": "stdout",
     "output_type": "stream",
     "text": [
      "15\n"
     ]
    }
   ],
   "source": [
    "x = 10\n",
    "y = 5\n",
    "z = x + y\n",
    "print (z)"
   ]
  },
  {
   "cell_type": "markdown",
   "metadata": {},
   "source": [
    "2. Toplama İşlemi Yap\n",
    "📌 Görev:\n",
    "\n",
    "İki sayı için değişken oluştur.\n",
    "Bu iki sayıyı toplayıp sonucu ekrana yazdır."
   ]
  },
  {
   "cell_type": "markdown",
   "metadata": {},
   "source": [
    "Kullanıcıdan adını girmesini iste.\n",
    "print() ile ekrana şu şekilde yazdır:\n",
    "✅ Örnek Çıktı:\n",
    "\n",
    "Merhaba Gökce!"
   ]
  },
  {
   "cell_type": "code",
   "execution_count": 1,
   "metadata": {},
   "outputs": [
    {
     "name": "stdout",
     "output_type": "stream",
     "text": [
      "Hello Gökçe!\n"
     ]
    }
   ],
   "source": [
    "user_name = input(\"What's your name?\")\n",
    "print (\"Hello\", user_name + \"!\")"
   ]
  },
  {
   "cell_type": "markdown",
   "metadata": {},
   "source": [
    "4. Sayı Girişini Al ve Çarp\n",
    "📌 Görev:\n",
    "\n",
    "Kullanıcıdan iki sayı al.\n",
    "Bu iki sayıyı çarp ve sonucu ekrana yazdır."
   ]
  },
  {
   "cell_type": "code",
   "execution_count": null,
   "metadata": {},
   "outputs": [],
   "source": [
    "num1 = int(input(\"Enter a number:\"))\n",
    "num2 = int(input(\"Enter another number:\"))\n",
    "multiply = num1 * num2\n",
    "print (\"Multiply:\", multiply)\n"
   ]
  },
  {
   "cell_type": "code",
   "execution_count": null,
   "metadata": {},
   "outputs": [],
   "source": []
  }
 ],
 "metadata": {
  "kernelspec": {
   "display_name": "base",
   "language": "python",
   "name": "python3"
  },
  "language_info": {
   "codemirror_mode": {
    "name": "ipython",
    "version": 3
   },
   "file_extension": ".py",
   "mimetype": "text/x-python",
   "name": "python",
   "nbconvert_exporter": "python",
   "pygments_lexer": "ipython3",
   "version": "3.9.12"
  }
 },
 "nbformat": 4,
 "nbformat_minor": 2
}
